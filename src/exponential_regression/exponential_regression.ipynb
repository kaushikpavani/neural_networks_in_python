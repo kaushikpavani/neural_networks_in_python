{
 "cells": [
  {
   "cell_type": "code",
   "execution_count": 42,
   "metadata": {
    "collapsed": true
   },
   "outputs": [],
   "source": [
    "import numpy as np\n",
    "import matplotlib.pyplot as plt\n",
    "%matplotlib inline  "
   ]
  },
  {
   "cell_type": "markdown",
   "metadata": {},
   "source": [
    "In the following, we will try to fit an exponential function to  best approximate the data. The data is of the form $y = ae^x + b$. "
   ]
  },
  {
   "cell_type": "code",
   "execution_count": 43,
   "metadata": {
    "collapsed": true
   },
   "outputs": [],
   "source": [
    "def generate_random_points (a, b, num_points, abs_value, abs_noise):\n",
    "    # randomly select x\n",
    "    x = np.random.uniform(-abs_value, abs_value, num_points)\n",
    "    # y = mx + b + noise\n",
    "    y = a*np.exp(x) + b + np.random.uniform(-abs_noise, abs_noise, num_points)\n",
    "    return x, y\n",
    "\n",
    "def plot_points(x,y):\n",
    "    plt.scatter(x, y)\n",
    "    plt.title('Scatter plot of x and y')\n",
    "    plt.xlabel('x')\n",
    "    plt.ylabel('y')"
   ]
  },
  {
   "cell_type": "code",
   "execution_count": 44,
   "metadata": {
    "collapsed": false
   },
   "outputs": [
    {
     "data": {
      "image/png": "[encoded data removed]",
      "text/plain": [
       "<matplotlib.figure.Figure at 0x7f0ddcd6d550>"
      ]
     },
     "metadata": {},
     "output_type": "display_data"
    }
   ],
   "source": [
    "a = 5.4\n",
    "b = -3\n",
    "num_points = 50\n",
    "abs_value = 4\n",
    "abs_noise = 30\n",
    "x, y = generate_random_points (a, b, num_points, abs_value, abs_noise)\n",
    "plot_points(x, y)"
   ]
  },
  {
   "cell_type": "markdown",
   "metadata": {},
   "source": [
    "If $N$ = num_points, then the error in fitting a line to the points (also defined as Cost, $C$) can be defined as:\n",
    "\n",
    "\n",
    "$C = \\sum_{i=0}^{N} (y-(ae^x+b))^2$\n",
    "\n",
    "To perform gradient descent, we need the partial derivatives of Cost $C$ with respect to slope $m$ and intercept $b$.\n",
    "\n",
    "$\\frac{\\partial C}{\\partial a} = \\sum_{i=0}^{N} -2(y-(ae^x+b)).e^x$\n",
    "\n",
    "$\\frac{\\partial C}{\\partial b} = \\sum_{i=0}^{N} -2(y-(ae^x+b))$"
   ]
  },
  {
   "cell_type": "code",
   "execution_count": 45,
   "metadata": {
    "collapsed": true
   },
   "outputs": [],
   "source": [
    "# this function computes gradient with respect to a\n",
    "def grad_m (x, y, a, b):\n",
    "    return np.sum(np.multiply(-2*(y - (a*np.exp(x) + b)), np.exp(x)))\n",
    "\n",
    "# this function computes gradient with respect to b\n",
    "def grad_b (x, y, a, b):\n",
    "    return np.sum(-2*(y - (a*np.exp(x) + b)))\n",
    "\n",
    "# Performs gradient descent\n",
    "def gradient_descent (x, y, num_iterations, learning_rate):\n",
    "    # Initialize m and b\n",
    "    a = np.random.uniform(-1, 1, 1)\n",
    "    b = np.random.uniform(-1, 1, 1)\n",
    "    # Update m and b in direction opposite to that of the gradient to minimize loss \n",
    "    for i in range(num_iterations):\n",
    "        a = a - learning_rate * grad_m (x, y, a, b)\n",
    "        b = b - learning_rate * grad_b (x, y, a, b)\n",
    "    # Return final slope and intercept\n",
    "    return a, b\n",
    "\n",
    "# Plot point along with the best fit line\n",
    "def plot_curve (a, b, x, y):\n",
    "    plot_points(x,y)\n",
    "    xval = np.linspace(np.amin(x), np.amax(x), num=len(x))\n",
    "    plt.plot(xval, np.exp(xval)*a + b, 'r')\n",
    "    plt.show()"
   ]
  },
  {
   "cell_type": "code",
   "execution_count": 46,
   "metadata": {
    "collapsed": false
   },
   "outputs": [
    {
     "data": {
      "image/png": "[encoded data removed]",
      "text/plain": [
       "<matplotlib.figure.Figure at 0x7f0ddcd9b650>"
      ]
     },
     "metadata": {},
     "output_type": "display_data"
    }
   ],
   "source": [
    "# In general, keep num_iterations high and learning_rate low.\n",
    "num_iterations =  2000\n",
    "learning_rate = 0.000001\n",
    "\n",
    "a, b = gradient_descent (x, y, num_iterations, learning_rate)\n",
    "plot_curve (a, b, x, y)\n",
    "plt.show()"
   ]
  },
  {
   "cell_type": "code",
   "execution_count": null,
   "metadata": {
    "collapsed": true
   },
   "outputs": [],
   "source": []
  }
 ],
 "metadata": {
  "kernelspec": {
   "display_name": "Python 2",
   "language": "python",
   "name": "python2"
  },
  "language_info": {
   "codemirror_mode": {
    "name": "ipython",
    "version": 2
   },
   "file_extension": ".py",
   "mimetype": "text/x-python",
   "name": "python",
   "nbconvert_exporter": "python",
   "pygments_lexer": "ipython2",
   "version": "2.7.6"
  }
 },
 "nbformat": 4,
 "nbformat_minor": 0
}
