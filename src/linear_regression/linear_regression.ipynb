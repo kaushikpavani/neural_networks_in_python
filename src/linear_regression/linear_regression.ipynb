{
 "cells": [
  {
   "cell_type": "code",
   "execution_count": 13,
   "metadata": {
    "collapsed": true
   },
   "outputs": [],
   "source": [
    "import numpy as np\n",
    "import matplotlib.pyplot as plt\n",
    "%matplotlib inline  "
   ]
  },
  {
   "cell_type": "markdown",
   "metadata": {},
   "source": [
    "Given a 2D set of points spanned by axes $x$ and $y$ axes, we will try to fit a line that best approximates the data. The equation of the line, in slope-intercept form, is defined by: $y = mx + c$. "
   ]
  },
  {
   "cell_type": "code",
   "execution_count": 49,
   "metadata": {
    "collapsed": true
   },
   "outputs": [],
   "source": [
    "def generate_random_points_along_a_line (slope, intercept, num_points, abs_value, abs_noise):\n",
    "    # randomly select x\n",
    "    x = np.random.uniform(-abs_value, abs_value, num_points)\n",
    "    # y = mx + b + noise\n",
    "    y = slope*x + intercept + np.random.uniform(-abs_noise, abs_noise, num_points)\n",
    "    return x, y\n",
    "\n",
    "def plot_points(x,y):\n",
    "    plt.scatter(x, y)\n",
    "    plt.title('Scatter plot of x and y')\n",
    "    plt.xlabel('x')\n",
    "    plt.ylabel('y')"
   ]
  },
  {
   "cell_type": "code",
   "execution_count": 63,
   "metadata": {
    "collapsed": false
   },
   "outputs": [
    {
     "data": {
      "image/png": "[encoded data removed]",
      "text/plain": [
       "<matplotlib.figure.Figure at 0x7f854f3edd10>"
      ]
     },
     "metadata": {},
     "output_type": "display_data"
    }
   ],
   "source": [
    "slope = 4\n",
    "intercept = -3\n",
    "num_points = 20\n",
    "abs_value = 4\n",
    "abs_noise = 2\n",
    "x, y = generate_random_points_along_a_line (slope, intercept, num_points, abs_value, abs_noise)\n",
    "plot_points(x, y)"
   ]
  },
  {
   "cell_type": "markdown",
   "metadata": {},
   "source": [
    "$\\frac{\\partial C}{\\partial m} = \\sum_{i=0}^{N} -2(y-(mx+b)).x$\n",
    "\n",
    "$\\frac{\\partial C}{\\partial b} = \\sum_{i=0}^{N} -2(y-(mx+b))$"
   ]
  },
  {
   "cell_type": "code",
   "execution_count": 64,
   "metadata": {
    "collapsed": true
   },
   "outputs": [],
   "source": [
    "# this function computes gradient with respect to slope m\n",
    "def grad_m (x, y, m, b):\n",
    "    return np.sum(np.multiply(-2*(y - (m*x + b)), x))\n",
    "\n",
    "# this function computes gradient with respect to intercept b\n",
    "def grad_b (x, y, m, b):\n",
    "    return np.sum(-2*(y - (m*x + b)))\n",
    "\n",
    "# Performs gradient descent\n",
    "def gradient_descent (x, y, num_iterations, learning_rate):\n",
    "    # Initialize m and b\n",
    "    m = np.random.uniform(-1, 1, 1)\n",
    "    b = np.random.uniform(-1, 1, 1)\n",
    "    # Update m and b in direction opposite to that of the gradient to minimize loss \n",
    "    for i in range(num_iterations):\n",
    "        m = m - learning_rate * grad_m (x, y, m, b)\n",
    "        b = b - learning_rate * grad_b (x, y, m, b)\n",
    "    # Return final slope and intercept\n",
    "    return m, b\n",
    "\n",
    "# Plot point along with the best fit line\n",
    "def plot_line (m, b, x, y):\n",
    "    plot_points(x,y)\n",
    "    plt.plot(x, x*m + b, 'r')\n",
    "    plt.show()"
   ]
  },
  {
   "cell_type": "code",
   "execution_count": 66,
   "metadata": {
    "collapsed": false
   },
   "outputs": [
    {
     "data": {
      "image/png": "[encoded data removed]",
      "text/plain": [
       "<matplotlib.figure.Figure at 0x7f854f16d650>"
      ]
     },
     "metadata": {},
     "output_type": "display_data"
    }
   ],
   "source": [
    "num_iterations =  1000\n",
    "learning_rate = 0.0001\n",
    "m, b = gradient_descent (x, y, num_iterations, learning_rate)\n",
    "plot_line (m, b, x, y)\n",
    "plt.show()"
   ]
  },
  {
   "cell_type": "code",
   "execution_count": null,
   "metadata": {
    "collapsed": true
   },
   "outputs": [],
   "source": []
  }
 ],
 "metadata": {
  "kernelspec": {
   "display_name": "Python 2",
   "language": "python",
   "name": "python2"
  },
  "language_info": {
   "codemirror_mode": {
    "name": "ipython",
    "version": 2
   },
   "file_extension": ".py",
   "mimetype": "text/x-python",
   "name": "python",
   "nbconvert_exporter": "python",
   "pygments_lexer": "ipython2",
   "version": "2.7.6"
  }
 },
 "nbformat": 4,
 "nbformat_minor": 0
}
