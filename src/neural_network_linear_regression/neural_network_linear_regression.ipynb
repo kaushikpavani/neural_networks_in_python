{
 "cells": [
  {
   "cell_type": "code",
   "execution_count": 1,
   "metadata": {
    "collapsed": false
   },
   "outputs": [],
   "source": [
    "import numpy as np\n",
    "import matplotlib.pyplot as plt\n",
    "%matplotlib inline"
   ]
  },
  {
   "cell_type": "code",
   "execution_count": 2,
   "metadata": {
    "collapsed": false
   },
   "outputs": [],
   "source": [
    "class FullyConnectedLayer:\n",
    "    \n",
    "    def __init__ (self, n_in, n_out, learning_rate):\n",
    "        '''\n",
    "        n_in: number of inputs\n",
    "        n_out: number of outputs\n",
    "        '''\n",
    "        self.weights = np.random.uniform(low=-0.5, high=0.5, size=(n_in,n_out))\n",
    "        self.bias = np.random.uniform(low=-0.5, high=0.5, size=(1,n_out))\n",
    "        \n",
    "    def print_self (self):\n",
    "        print \"Weights\"\n",
    "        print self.weights\n",
    "        print \"Bias\"\n",
    "        print self.bias\n",
    "    \n",
    "    def forward_pass(self, input_vector):\n",
    "        self.input_vector = input_vector\n",
    "        return np.matmul(input_vector, self.weights) + self.bias\n",
    "    \n",
    "    def _compute_gradient_weights(self, error_upper_layer):\n",
    "        grad_weights = np.zeros_like(self.weights)\n",
    "        # For every i/o pair\n",
    "        for i, o in zip(self.input_vector, error_upper_layer):\n",
    "            grad_weights = grad_weights + np.outer(i, o)\n",
    "        return grad_weights\n",
    "    \n",
    "    def _compute_error_lower_layer(self, error_upper_layer):\n",
    "        return np.matmul(error_upper_layer, self.weights.transpose())\n",
    "    \n",
    "    def _compute_error_bias(self, error_upper_layer):\n",
    "        return np.sum(error_upper_layer, 0)\n",
    "    \n",
    "    def backward_pass(self, error_upper_layer):\n",
    "        # Compute error for upper layer\n",
    "        error_lower_layer = self._compute_error_lower_layer(error_upper_layer) \n",
    "        # Compute gradients on weights\n",
    "        grad_weights = self._compute_gradient_weights(error_upper_layer)\n",
    "        # Compute gradients on bias\n",
    "        grad_bias = self._compute_error_bias(error_upper_layer)\n",
    "        # Adjust weights and bias just a little bit in direction to opposite to the gradient to minimize loss\n",
    "        self.weights = self.weights - learning_rate * grad_weights\n",
    "        self.bias = self.bias - learning_rate * grad_bias\n",
    "        # return error\n",
    "        return error_lower_layer"
   ]
  },
  {
   "cell_type": "code",
   "execution_count": 3,
   "metadata": {
    "collapsed": true
   },
   "outputs": [],
   "source": [
    "class EuclideanLossLayer:\n",
    "    \n",
    "    def forward_pass(self, input_vector):\n",
    "        self.input_vector = input_vector\n",
    "        return self.input_vector\n",
    "    \n",
    "    def print_self (self):\n",
    "        pass\n",
    "        \n",
    "    def backward_pass(self, expected_output):\n",
    "        #print \"Loss: \" + str(np.sum(np.square(expected_output-self.input_vector)))\n",
    "        return -2*(expected_output-self.input_vector)"
   ]
  },
  {
   "cell_type": "code",
   "execution_count": 4,
   "metadata": {
    "collapsed": false
   },
   "outputs": [],
   "source": [
    "class NeuralNetwork:\n",
    "    \n",
    "    def __init__(self):\n",
    "        self.layers = []\n",
    "    \n",
    "    def add_layer(self, layer):\n",
    "        self.layers.append(layer)\n",
    "        \n",
    "    def print_self (self):\n",
    "        for layer in self.layers:\n",
    "            layer.print_self()\n",
    "        \n",
    "    def forward_pass(self, input_vector):\n",
    "        data = input_vector\n",
    "        for layer in self.layers:\n",
    "            data = layer.forward_pass(data)\n",
    "            \n",
    "    def backward_pass(self, expected_output):\n",
    "        data = expected_output\n",
    "        for layer in reversed(self.layers):\n",
    "            data = layer.backward_pass(data)\n",
    "            \n",
    "    def train(self, num_iterations, input_vector, expected_output):\n",
    "        for i in range(num_iterations):\n",
    "            #print \"Iteration \" + str(i) + \" of \" + str(num_iterations)\n",
    "            self.forward_pass(input_vector)\n",
    "            self.backward_pass(expected_output)"
   ]
  },
  {
   "cell_type": "code",
   "execution_count": 5,
   "metadata": {
    "collapsed": false
   },
   "outputs": [],
   "source": [
    "# Define constats\n",
    "learning_rate = 0.00001\n",
    "n_in = 1\n",
    "n_out = 1\n",
    "\n",
    "# Construct a NN\n",
    "nn = NeuralNetwork()\n",
    "nn.add_layer(FullyConnectedLayer(n_in, n_out, learning_rate))\n",
    "nn.add_layer(EuclideanLossLayer())\n"
   ]
  },
  {
   "cell_type": "code",
   "execution_count": 6,
   "metadata": {
    "collapsed": false
   },
   "outputs": [
    {
     "name": "stderr",
     "output_type": "stream",
     "text": [
      "/usr/local/lib/python2.7/dist-packages/matplotlib/collections.py:590: FutureWarning: elementwise comparison failed; returning scalar instead, but in the future will perform elementwise comparison\n",
      "  if self._edgecolors == str('face'):\n"
     ]
    },
    {
     "data": {
      "image/png": "[encoded data removed]",
      "text/plain": [
       "<matplotlib.figure.Figure at 0x7f29778770d0>"
      ]
     },
     "metadata": {},
     "output_type": "display_data"
    }
   ],
   "source": [
    "# define i/o\n",
    "def generate_random_points_along_a_line (slope, intercept, num_points, abs_value, abs_noise):\n",
    "    # randomly select x\n",
    "    x = np.random.uniform(low=-abs_value, high=abs_value, size=(num_points,n_in))\n",
    "    # y = mx + b + noise\n",
    "    y = slope*x + intercept + np.random.uniform(low=-abs_noise, high=abs_noise, size=(num_points,n_out))\n",
    "    return x, y\n",
    "\n",
    "def plot_points(x,y):\n",
    "    plt.scatter(x, y)\n",
    "    plt.title('Scatter plot of x and y')\n",
    "    plt.xlabel('x')\n",
    "    plt.ylabel('y')\n",
    "    \n",
    "slope = 4\n",
    "intercept = -3\n",
    "num_points = 100\n",
    "abs_value = 4\n",
    "abs_noise = 2\n",
    "x, y = generate_random_points_along_a_line (slope, intercept, num_points, abs_value, abs_noise)\n",
    "plot_points(x, y)"
   ]
  },
  {
   "cell_type": "code",
   "execution_count": 7,
   "metadata": {
    "collapsed": false
   },
   "outputs": [
    {
     "name": "stdout",
     "output_type": "stream",
     "text": [
      "Weights\n",
      "[[ 4.02356216]]\n",
      "Bias\n",
      "[[-2.44686148]]\n"
     ]
    }
   ],
   "source": [
    "num_iterations = 1000\n",
    "input_vector = x\n",
    "expected_output = y\n",
    "\n",
    "nn.train(num_iterations, input_vector, expected_output)\n",
    "nn.print_self()"
   ]
  },
  {
   "cell_type": "code",
   "execution_count": null,
   "metadata": {
    "collapsed": true
   },
   "outputs": [],
   "source": []
  },
  {
   "cell_type": "code",
   "execution_count": null,
   "metadata": {
    "collapsed": true
   },
   "outputs": [],
   "source": []
  },
  {
   "cell_type": "code",
   "execution_count": null,
   "metadata": {
    "collapsed": true
   },
   "outputs": [],
   "source": []
  },
  {
   "cell_type": "code",
   "execution_count": null,
   "metadata": {
    "collapsed": true
   },
   "outputs": [],
   "source": []
  }
 ],
 "metadata": {
  "kernelspec": {
   "display_name": "Python 2",
   "language": "python",
   "name": "python2"
  },
  "language_info": {
   "codemirror_mode": {
    "name": "ipython",
    "version": 2
   },
   "file_extension": ".py",
   "mimetype": "text/x-python",
   "name": "python",
   "nbconvert_exporter": "python",
   "pygments_lexer": "ipython2",
   "version": "2.7.6"
  }
 },
 "nbformat": 4,
 "nbformat_minor": 0
}
