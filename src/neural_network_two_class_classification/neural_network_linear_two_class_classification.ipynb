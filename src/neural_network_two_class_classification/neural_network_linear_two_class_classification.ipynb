{
 "cells": [
  {
   "cell_type": "code",
   "execution_count": 77,
   "metadata": {
    "collapsed": false
   },
   "outputs": [],
   "source": [
    "import numpy as np\n",
    "import matplotlib.pyplot as plt\n",
    "%matplotlib inline"
   ]
  },
  {
   "cell_type": "code",
   "execution_count": 78,
   "metadata": {
    "collapsed": false
   },
   "outputs": [],
   "source": [
    "class FullyConnectedLayer:\n",
    "    \n",
    "    def __init__ (self, name, n_in, n_out, learning_rate):\n",
    "        '''\n",
    "        name: Name of this later. Choose any string that uniquely identifies this layer\n",
    "        n_in: number of inputs\n",
    "        n_out: number of outputs\n",
    "        learning_rate: learning rate\n",
    "        '''\n",
    "        self.weights = np.random.uniform(low=-0.5, high=0.5, size=(n_in,n_out))\n",
    "        self.bias = np.random.uniform(low=-0.5, high=0.5, size=(1,n_out))\n",
    "        self.name = name\n",
    "        \n",
    "    def print_self (self):\n",
    "        print \"Layer: \" + self.name\n",
    "        print \"Weights\"\n",
    "        print self.weights\n",
    "        print \"Bias\"\n",
    "        print self.bias\n",
    "        \n",
    "    def get_parameters(self):\n",
    "        return self.weights, self.bias\n",
    "    \n",
    "    def get_layer_type(self):\n",
    "        return \"fully_connected\"\n",
    "    \n",
    "    def forward_pass(self, input_vector):\n",
    "        self.input_vector = input_vector\n",
    "        return np.matmul(input_vector, self.weights) + self.bias\n",
    "    \n",
    "    def _compute_gradient_weights(self, error_upper_layer):\n",
    "        grad_weights = np.zeros_like(self.weights)\n",
    "        # For every i/o pair\n",
    "        for i, o in zip(self.input_vector, error_upper_layer):\n",
    "            grad_weights = grad_weights + np.outer(i, o)\n",
    "        return grad_weights\n",
    "    \n",
    "    def _compute_error_lower_layer(self, error_upper_layer):\n",
    "        return np.matmul(error_upper_layer, self.weights.transpose())\n",
    "    \n",
    "    def _compute_error_bias(self, error_upper_layer):\n",
    "        return np.sum(error_upper_layer, 0)\n",
    "    \n",
    "    def backward_pass(self, error_upper_layer):\n",
    "        # Compute error for upper layer\n",
    "        error_lower_layer = self._compute_error_lower_layer(error_upper_layer) \n",
    "        # Compute gradients on weights\n",
    "        grad_weights = self._compute_gradient_weights(error_upper_layer)\n",
    "        # Compute gradients on bias\n",
    "        grad_bias = self._compute_error_bias(error_upper_layer)\n",
    "        # Adjust weights and bias just a little bit in direction to opposite to the gradient to minimize loss\n",
    "        self.weights = self.weights - learning_rate * grad_weights\n",
    "        self.bias = self.bias - learning_rate * grad_bias\n",
    "        # return error\n",
    "        return error_lower_layer"
   ]
  },
  {
   "cell_type": "code",
   "execution_count": 79,
   "metadata": {
    "collapsed": true
   },
   "outputs": [],
   "source": [
    "class SigmoidLayer:\n",
    "    \n",
    "    def __init__(self, name):\n",
    "        self.name = name\n",
    "        \n",
    "    def forward_pass(self, input_data):\n",
    "        self.sigmoid_values  = 1 / (1 + np.exp(-input_data))\n",
    "        return self.sigmoid_values\n",
    "    \n",
    "    def backward_pass(self, error_upper_layer):\n",
    "        return np.multiply(self.sigmoid_values, 1-self.sigmoid_values)\n",
    "    \n",
    "    def print_self (self):\n",
    "        print \"Layer: \" + self.name\n",
    "        print \"No learned parameters in this layer\"\n",
    "        \n",
    "    def get_parameters(self):\n",
    "        return None\n",
    "    \n",
    "    def get_layer_type(self):\n",
    "        return \"sigmoid\""
   ]
  },
  {
   "cell_type": "code",
   "execution_count": 80,
   "metadata": {
    "collapsed": true
   },
   "outputs": [],
   "source": [
    "class ReLU:\n",
    "    \n",
    "    def __init__(self, name):\n",
    "        self.name = name\n",
    "        \n",
    "    def forward_pass(self, input_data):\n",
    "        self.condition =  input_data > 0\n",
    "        return np.where(self.condition, input_data, 0)\n",
    "    \n",
    "    def backward_pass(self, error_upper_layer):\n",
    "        return np.where(self.condition, error_upper_layer, 0)\n",
    "    \n",
    "    def print_self (self):\n",
    "        print \"Layer: \" + self.name\n",
    "        print \"No learned parameters in this layer\"\n",
    "        \n",
    "    def get_parameters(self):\n",
    "        return None\n",
    "    \n",
    "    def get_layer_type(self):\n",
    "        return \"relu\""
   ]
  },
  {
   "cell_type": "code",
   "execution_count": 81,
   "metadata": {
    "collapsed": false
   },
   "outputs": [],
   "source": [
    "def softmax(row):\n",
    "    exprow = np.exp(row)\n",
    "    exprow = exprow / np.sum(exprow)\n",
    "    return exprow\n",
    "\n",
    "class SoftmaxLossLayer:\n",
    "    \n",
    "    def __init__(self, name):\n",
    "        self.name = name\n",
    "    \n",
    "    def forward_pass(self, input_vector):\n",
    "        # Apply softmax to each input vector\n",
    "        self.prob = np.apply_along_axis( softmax, 1, input_vector )\n",
    "        return self.prob\n",
    "    \n",
    "    def get_parameters(self):\n",
    "        return None\n",
    "\n",
    "    def get_layer_type(self):\n",
    "        return \"softmax_loss\"\n",
    "    \n",
    "    def print_self (self):\n",
    "        print \"Layer: \" + self.name\n",
    "        print \"No learned parameters in this layer\"\n",
    "        \n",
    "    def backward_pass(self, expected_output):\n",
    "        return self.prob - expected_output"
   ]
  },
  {
   "cell_type": "code",
   "execution_count": 82,
   "metadata": {
    "collapsed": false
   },
   "outputs": [],
   "source": [
    "class NeuralNetwork:\n",
    "    \n",
    "    def __init__(self):\n",
    "        self.layers = []\n",
    "    \n",
    "    def add_layer(self, layer):\n",
    "        self.layers.append(layer)\n",
    "        \n",
    "    def print_self (self):\n",
    "        for layer in self.layers:\n",
    "            layer.print_self()\n",
    "            \n",
    "    def get_layers (self):\n",
    "        return self.layers\n",
    "        \n",
    "    def forward_pass(self, input_vector):\n",
    "        data = input_vector\n",
    "        for layer in self.layers:\n",
    "            data = layer.forward_pass(data)\n",
    "        return data\n",
    "            \n",
    "    def backward_pass(self, expected_output):\n",
    "        data = expected_output\n",
    "        for layer in reversed(self.layers):\n",
    "            data = layer.backward_pass(data)\n",
    "        return data\n",
    "            \n",
    "    def train(self, num_iterations, input_vector, expected_output):\n",
    "        for i in range(num_iterations):\n",
    "            #print \"Iteration \" + str(i) + \" of \" + str(num_iterations)\n",
    "            self.forward_pass(input_vector)\n",
    "            self.backward_pass(expected_output)"
   ]
  },
  {
   "cell_type": "code",
   "execution_count": 83,
   "metadata": {
    "collapsed": false
   },
   "outputs": [],
   "source": [
    "# Define constats\n",
    "learning_rate = 0.0001\n",
    "n_in1 = 2\n",
    "n_out1 = 10\n",
    "n_in2 = 10\n",
    "n_out2 = 3\n",
    "n_in3 = 3\n",
    "n_out3 = 2\n",
    "\n",
    "# Construct a NN\n",
    "nn = NeuralNetwork()\n",
    "nn.add_layer(FullyConnectedLayer(\"layer 1\", n_in1, n_out1, learning_rate))\n",
    "nn.add_layer(ReLU(\"relu 1\"))\n",
    "nn.add_layer(FullyConnectedLayer(\"layer 2\", n_in2, n_out2, learning_rate))\n",
    "nn.add_layer(ReLU(\"relu 2\"))\n",
    "nn.add_layer(FullyConnectedLayer(\"layer 3\", n_in3, n_out3, learning_rate))\n",
    "nn.add_layer(SoftmaxLossLayer(\"softmax_loss\"))"
   ]
  },
  {
   "cell_type": "code",
   "execution_count": 84,
   "metadata": {
    "collapsed": false
   },
   "outputs": [
    {
     "data": {
      "image/png": "[encoded data removed]",
      "text/plain": [
       "<matplotlib.figure.Figure at 0x7f806aed4c10>"
      ]
     },
     "metadata": {},
     "output_type": "display_data"
    }
   ],
   "source": [
    "# define i/o\n",
    "def generate_random_input (num_points_per_class):\n",
    "    # randomly select class 1\n",
    "    class_1_data = np.random.rand(num_points_per_class,2)\n",
    "    class_1_data = class_1_data + 0.3\n",
    "    class_1_label = np.tile([1, 0],(num_points_per_class,1))\n",
    "    # randomly select class 2\n",
    "    class_2_data = np.random.rand(num_points_per_class,2)\n",
    "    class_2_data = class_2_data - 0.3\n",
    "    class_2_label = np.tile([0, 1],(num_points_per_class,1))\n",
    "    # concatenate data and label\n",
    "    data = np.concatenate((class_1_data, class_2_data), axis=0)\n",
    "    label = np.concatenate((class_1_label, class_2_label), axis=0)\n",
    "    \n",
    "    return data, label\n",
    "\n",
    "def plot_data (data, label):\n",
    "    for d, l in zip(data, label):\n",
    "        if l[0] > 0.5:\n",
    "            plt.scatter(d[0], d[1], color='r', marker='^')\n",
    "        else:\n",
    "            plt.scatter(d[0], d[1], color='b', marker='s')\n",
    "    plt.title('Scatter plot of data in class 1 and class 2')\n",
    "    plt.xlabel('feat 1')\n",
    "    plt.ylabel('feat 2')\n",
    "    \n",
    "data, label =  generate_random_input(100)\n",
    "plot_data (data, label)"
   ]
  },
  {
   "cell_type": "code",
   "execution_count": 85,
   "metadata": {
    "collapsed": false
   },
   "outputs": [
    {
     "name": "stdout",
     "output_type": "stream",
     "text": [
      "Layer: layer 1\n",
      "Weights\n",
      "[[ -2.34705043e-01   4.77069921e-01  -1.27077248e-01  -4.34242538e-01\n",
      "    1.01716543e-01   3.44617958e-01   6.01265787e-01   6.27187101e-01\n",
      "    7.90135176e-03  -5.11983781e-01]\n",
      " [  2.76218287e-01   2.76201026e-01  -1.60626695e-01   3.08562955e-02\n",
      "   -4.72857084e-01   4.72667101e-01   5.31944506e-01   6.14593055e-01\n",
      "   -2.93589787e-04  -5.60130330e-01]]\n",
      "Bias\n",
      "[[-0.45185078  0.08893102 -0.36934177  0.76829623  0.70454169 -0.10278033\n",
      "  -0.16082079 -0.17367306  0.44129805  0.81303047]]\n",
      "Layer: relu 1\n",
      "No learned parameters in this layer\n",
      "Layer: layer 2\n",
      "Weights\n",
      "[[ 0.34375557 -0.40119457 -0.27851601]\n",
      " [-0.35306916 -0.46432617  0.12694418]\n",
      " [ 0.11475597 -0.34501375  0.38588271]\n",
      " [-0.43780683  0.5012733   0.52362346]\n",
      " [-0.42651227  0.73979238  0.28019254]\n",
      " [-0.47056644 -0.4474559  -0.5172471 ]\n",
      " [ 0.28415343 -0.50448828 -0.634422  ]\n",
      " [-0.28608092 -0.82227687 -0.47861507]\n",
      " [ 0.22524819 -0.24469267  0.48227218]\n",
      " [ 0.22474169  0.76745872  0.61218449]]\n",
      "Bias\n",
      "[[-0.06576901  0.90673795  0.30190733]]\n",
      "Layer: relu 2\n",
      "No learned parameters in this layer\n",
      "Layer: layer 3\n",
      "Weights\n",
      "[[-0.06188548 -0.14915473]\n",
      " [-1.31052741  1.00130172]\n",
      " [-1.15231106  0.50248102]]\n",
      "Bias\n",
      "[[ 1.15236308 -1.41419761]]\n",
      "Layer: softmax_loss\n",
      "No learned parameters in this layer\n"
     ]
    }
   ],
   "source": [
    "num_iterations = 2000\n",
    "\n",
    "nn.train(num_iterations, data, label)\n",
    "nn.print_self()"
   ]
  },
  {
   "cell_type": "code",
   "execution_count": 86,
   "metadata": {
    "collapsed": false
   },
   "outputs": [
    {
     "data": {
      "image/png": "[encoded data removed]",
      "text/plain": [
       "<matplotlib.figure.Figure at 0x7f806b351e50>"
      ]
     },
     "metadata": {},
     "output_type": "display_data"
    }
   ],
   "source": [
    "scores = nn.forward_pass(data)\n",
    "plot_data (data, scores)"
   ]
  },
  {
   "cell_type": "code",
   "execution_count": null,
   "metadata": {
    "collapsed": true
   },
   "outputs": [],
   "source": []
  }
 ],
 "metadata": {
  "kernelspec": {
   "display_name": "Python 2",
   "language": "python",
   "name": "python2"
  },
  "language_info": {
   "codemirror_mode": {
    "name": "ipython",
    "version": 2
   },
   "file_extension": ".py",
   "mimetype": "text/x-python",
   "name": "python",
   "nbconvert_exporter": "python",
   "pygments_lexer": "ipython2",
   "version": "2.7.6"
  }
 },
 "nbformat": 4,
 "nbformat_minor": 0
}
