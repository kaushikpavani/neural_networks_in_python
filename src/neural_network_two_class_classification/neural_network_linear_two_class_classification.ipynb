{
 "cells": [
  {
   "cell_type": "code",
   "execution_count": 1,
   "metadata": {
    "collapsed": false
   },
   "outputs": [],
   "source": [
    "import numpy as np\n",
    "import matplotlib.pyplot as plt\n",
    "%matplotlib inline"
   ]
  },
  {
   "cell_type": "code",
   "execution_count": 2,
   "metadata": {
    "collapsed": false
   },
   "outputs": [],
   "source": [
    "class FullyConnectedLayer:\n",
    "    \n",
    "    def __init__ (self, name, n_in, n_out, learning_rate):\n",
    "        '''\n",
    "        name: Name of this later. Choose any string that uniquely identifies this layer\n",
    "        n_in: number of inputs\n",
    "        n_out: number of outputs\n",
    "        learning_rate: learning rate\n",
    "        '''\n",
    "        self.weights = np.random.uniform(low=-0.5, high=0.5, size=(n_in,n_out))\n",
    "        self.bias = np.random.uniform(low=-0.5, high=0.5, size=(1,n_out))\n",
    "        self.name = name\n",
    "        \n",
    "    def print_self (self):\n",
    "        print \"Layer: \" + self.name\n",
    "        print \"Weights\"\n",
    "        print self.weights\n",
    "        print \"Bias\"\n",
    "        print self.bias\n",
    "        \n",
    "    def get_parameters(self):\n",
    "        return self.weights, self.bias\n",
    "    \n",
    "    def get_layer_type(self):\n",
    "        return \"fully_connected\"\n",
    "    \n",
    "    def forward_pass(self, input_vector):\n",
    "        self.input_vector = input_vector\n",
    "        return np.matmul(input_vector, self.weights) + self.bias\n",
    "    \n",
    "    def _compute_gradient_weights(self, error_upper_layer):\n",
    "        grad_weights = np.zeros_like(self.weights)\n",
    "        # For every i/o pair\n",
    "        for i, o in zip(self.input_vector, error_upper_layer):\n",
    "            grad_weights = grad_weights + np.outer(i, o)\n",
    "        return grad_weights\n",
    "    \n",
    "    def _compute_error_lower_layer(self, error_upper_layer):\n",
    "        return np.matmul(error_upper_layer, self.weights.transpose())\n",
    "    \n",
    "    def _compute_error_bias(self, error_upper_layer):\n",
    "        return np.sum(error_upper_layer, 0)\n",
    "    \n",
    "    def backward_pass(self, error_upper_layer):\n",
    "        # Compute error for upper layer\n",
    "        error_lower_layer = self._compute_error_lower_layer(error_upper_layer) \n",
    "        # Compute gradients on weights\n",
    "        grad_weights = self._compute_gradient_weights(error_upper_layer)\n",
    "        # Compute gradients on bias\n",
    "        grad_bias = self._compute_error_bias(error_upper_layer)\n",
    "        # Adjust weights and bias just a little bit in direction to opposite to the gradient to minimize loss\n",
    "        self.weights = self.weights - learning_rate * grad_weights\n",
    "        self.bias = self.bias - learning_rate * grad_bias\n",
    "        # return error\n",
    "        return error_lower_layer"
   ]
  },
  {
   "cell_type": "code",
   "execution_count": 3,
   "metadata": {
    "collapsed": true
   },
   "outputs": [],
   "source": [
    "class SigmoidLayer:\n",
    "    \n",
    "    def __init__(self, name):\n",
    "        self.name = name\n",
    "        \n",
    "    def forward_pass(self, input_data):\n",
    "        self.sigmoid_values  = 1 / (1 + np.exp(-input_data))\n",
    "        return self.sigmoid_values\n",
    "    \n",
    "    def backward_pass(self, error_upper_layer):\n",
    "        return np.multiply(self.sigmoid_values, 1-self.sigmoid_values)\n",
    "    \n",
    "    def print_self (self):\n",
    "        print \"Layer: \" + self.name\n",
    "        print \"No learned parameters in this layer\"\n",
    "        \n",
    "    def get_parameters(self):\n",
    "        return None\n",
    "    \n",
    "    def get_layer_type(self):\n",
    "        return \"sigmoid\""
   ]
  },
  {
   "cell_type": "code",
   "execution_count": 4,
   "metadata": {
    "collapsed": false
   },
   "outputs": [],
   "source": [
    "def softmax(row):\n",
    "    exprow = np.exp(row)\n",
    "    exprow = exprow / np.sum(exprow)\n",
    "    return exprow\n",
    "\n",
    "class SoftmaxLossLayer:\n",
    "    \n",
    "    def __init__(self, name):\n",
    "        self.name = name\n",
    "    \n",
    "    def forward_pass(self, input_vector):\n",
    "        # Apply softmax to each input vector\n",
    "        self.prob = np.apply_along_axis( softmax, 1, input_vector )\n",
    "        return self.prob\n",
    "    \n",
    "    def get_parameters(self):\n",
    "        return None\n",
    "\n",
    "    def get_layer_type(self):\n",
    "        return \"softmax_loss\"\n",
    "    \n",
    "    def print_self (self):\n",
    "        print \"Layer: \" + self.name\n",
    "        print \"No learned parameters in this layer\"\n",
    "        \n",
    "    def backward_pass(self, expected_output):\n",
    "        return self.prob - expected_output"
   ]
  },
  {
   "cell_type": "code",
   "execution_count": 5,
   "metadata": {
    "collapsed": false
   },
   "outputs": [],
   "source": [
    "class NeuralNetwork:\n",
    "    \n",
    "    def __init__(self):\n",
    "        self.layers = []\n",
    "    \n",
    "    def add_layer(self, layer):\n",
    "        self.layers.append(layer)\n",
    "        \n",
    "    def print_self (self):\n",
    "        for layer in self.layers:\n",
    "            layer.print_self()\n",
    "            \n",
    "    def get_layers (self):\n",
    "        return self.layers\n",
    "        \n",
    "    def forward_pass(self, input_vector):\n",
    "        data = input_vector\n",
    "        for layer in self.layers:\n",
    "            data = layer.forward_pass(data)\n",
    "        return data\n",
    "            \n",
    "    def backward_pass(self, expected_output):\n",
    "        data = expected_output\n",
    "        for layer in reversed(self.layers):\n",
    "            data = layer.backward_pass(data)\n",
    "        return data\n",
    "            \n",
    "    def train(self, num_iterations, input_vector, expected_output):\n",
    "        for i in range(num_iterations):\n",
    "            #print \"Iteration \" + str(i) + \" of \" + str(num_iterations)\n",
    "            self.forward_pass(input_vector)\n",
    "            self.backward_pass(expected_output)"
   ]
  },
  {
   "cell_type": "code",
   "execution_count": 6,
   "metadata": {
    "collapsed": false
   },
   "outputs": [],
   "source": [
    "# Define constats\n",
    "learning_rate = 0.0001\n",
    "n_in1 = 2\n",
    "n_out1 = 10\n",
    "n_in2 = 10\n",
    "n_out2 = 3\n",
    "n_in3 = 3\n",
    "n_out3 = 2\n",
    "\n",
    "# Construct a NN\n",
    "nn = NeuralNetwork()\n",
    "nn.add_layer(FullyConnectedLayer(\"layer 1\", n_in1, n_out1, learning_rate))\n",
    "nn.add_layer(SigmoidLayer(\"sigmoid 1\"))\n",
    "nn.add_layer(FullyConnectedLayer(\"layer 2\", n_in2, n_out2, learning_rate))\n",
    "nn.add_layer(SigmoidLayer(\"sigmoid 2\"))\n",
    "nn.add_layer(FullyConnectedLayer(\"layer 3\", n_in3, n_out3, learning_rate))\n",
    "nn.add_layer(SoftmaxLossLayer(\"softmax_loss\"))"
   ]
  },
  {
   "cell_type": "code",
   "execution_count": 7,
   "metadata": {
    "collapsed": false
   },
   "outputs": [
    {
     "name": "stderr",
     "output_type": "stream",
     "text": [
      "/usr/local/lib/python2.7/dist-packages/matplotlib/collections.py:590: FutureWarning: elementwise comparison failed; returning scalar instead, but in the future will perform elementwise comparison\n",
      "  if self._edgecolors == str('face'):\n"
     ]
    },
    {
     "data": {
      "image/png": "[encoded data removed]",
      "text/plain": [
       "<matplotlib.figure.Figure at 0x7f806d6eb410>"
      ]
     },
     "metadata": {},
     "output_type": "display_data"
    }
   ],
   "source": [
    "# define i/o\n",
    "def generate_random_input (num_points_per_class):\n",
    "    # randomly select class 1\n",
    "    class_1_data = np.random.rand(num_points_per_class,2)\n",
    "    class_1_data = class_1_data + 0.3\n",
    "    class_1_label = np.tile([1, 0],(num_points_per_class,1))\n",
    "    # randomly select class 2\n",
    "    class_2_data = np.random.rand(num_points_per_class,2)\n",
    "    class_2_data = class_2_data - 0.3\n",
    "    class_2_label = np.tile([0, 1],(num_points_per_class,1))\n",
    "    # concatenate data and label\n",
    "    data = np.concatenate((class_1_data, class_2_data), axis=0)\n",
    "    label = np.concatenate((class_1_label, class_2_label), axis=0)\n",
    "    \n",
    "    return data, label\n",
    "\n",
    "def plot_data (data, label):\n",
    "    for d, l in zip(data, label):\n",
    "        if l[0] > 0.5:\n",
    "            plt.scatter(d[0], d[1], color='r', marker='^')\n",
    "        else:\n",
    "            plt.scatter(d[0], d[1], color='b', marker='s')\n",
    "    plt.title('Scatter plot of data in class 1 and class 2')\n",
    "    plt.xlabel('feat 1')\n",
    "    plt.ylabel('feat 2')\n",
    "    \n",
    "data, label =  generate_random_input(100)\n",
    "plot_data (data, label)"
   ]
  },
  {
   "cell_type": "code",
   "execution_count": 10,
   "metadata": {
    "collapsed": false
   },
   "outputs": [
    {
     "name": "stdout",
     "output_type": "stream",
     "text": [
      "Layer: layer 1\n",
      "Weights\n",
      "[[-1.32918953 -1.35074817 -1.04409972 -1.25170611 -0.85138336 -0.92824465\n",
      "  -1.49104399 -1.37551215 -1.4857518  -1.38422479]\n",
      " [-1.34303043 -1.2020546  -0.67109525 -1.00765989 -0.96848225 -1.06287891\n",
      "  -0.88988462 -0.52630509 -1.25233655 -0.61882058]]\n",
      "Bias\n",
      "[[-2.65377663 -2.73801229 -3.05951722 -2.83239559 -3.03163127 -2.93144263\n",
      "  -2.76254179 -3.00317526 -2.64847828 -2.92035292]]\n",
      "Layer: sigmoid 1\n",
      "No learned parameters in this layer\n",
      "Layer: layer 2\n",
      "Weights\n",
      "[[-0.48178787 -0.93542933 -0.02489433]\n",
      " [-0.59737504 -0.84881709 -0.16990971]\n",
      " [-0.52804819 -0.64027761 -0.7226339 ]\n",
      " [-0.06201819 -0.47931837 -0.28796621]\n",
      " [-0.7477365  -0.54171979 -0.94182331]\n",
      " [-0.86294275 -0.60074521 -0.10014021]\n",
      " [-0.56660374 -0.18611723 -0.18527255]\n",
      " [-0.08308664 -0.70785819  0.11306403]\n",
      " [-0.09615743 -0.24686963 -0.51086128]\n",
      " [-0.6167567  -0.59317896 -0.19445762]]\n",
      "Bias\n",
      "[[-3.25823803 -3.20700917 -3.42785438]]\n",
      "Layer: sigmoid 2\n",
      "No learned parameters in this layer\n",
      "Layer: layer 3\n",
      "Weights\n",
      "[[ 0.24072189 -0.54798797]\n",
      " [-0.1325505  -0.39151404]\n",
      " [ 0.19389387  0.3131917 ]]\n",
      "Bias\n",
      "[[-0.19529527 -0.16223548]]\n",
      "Layer: softmax_loss\n",
      "No learned parameters in this layer\n"
     ]
    }
   ],
   "source": [
    "num_iterations = 1000\n",
    "\n",
    "nn.train(num_iterations, data, label)\n",
    "nn.print_self()"
   ]
  },
  {
   "cell_type": "code",
   "execution_count": 11,
   "metadata": {
    "collapsed": false
   },
   "outputs": [
    {
     "data": {
      "image/png": "[encoded data removed]",
      "text/plain": [
       "<matplotlib.figure.Figure at 0x7f806adc8d90>"
      ]
     },
     "metadata": {},
     "output_type": "display_data"
    }
   ],
   "source": [
    "scores = nn.forward_pass(data)\n",
    "plot_data (data, scores)"
   ]
  },
  {
   "cell_type": "code",
   "execution_count": null,
   "metadata": {
    "collapsed": true
   },
   "outputs": [],
   "source": []
  }
 ],
 "metadata": {
  "kernelspec": {
   "display_name": "Python 2",
   "language": "python",
   "name": "python2"
  },
  "language_info": {
   "codemirror_mode": {
    "name": "ipython",
    "version": 2
   },
   "file_extension": ".py",
   "mimetype": "text/x-python",
   "name": "python",
   "nbconvert_exporter": "python",
   "pygments_lexer": "ipython2",
   "version": "2.7.6"
  }
 },
 "nbformat": 4,
 "nbformat_minor": 0
}
